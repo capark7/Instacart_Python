{
 "cells": [
  {
   "cell_type": "markdown",
   "id": "67f848b0",
   "metadata": {},
   "source": [
    "# 1 Importing data and basic statistical analysis"
   ]
  },
  {
   "cell_type": "markdown",
   "id": "cdc6ad2e",
   "metadata": {},
   "source": [
    "Contents\n",
    "\n",
    "1. Import libraries\n",
    "2. Practice datatypes"
   ]
  },
  {
   "cell_type": "markdown",
   "id": "d226b964",
   "metadata": {},
   "source": [
    "1. Import libraries"
   ]
  },
  {
   "cell_type": "code",
   "execution_count": 1,
   "id": "8e9d353d",
   "metadata": {},
   "outputs": [],
   "source": [
    "#import libraries\n",
    "import pandas as pd\n",
    "import numpy as np\n",
    "import os"
   ]
  },
  {
   "cell_type": "markdown",
   "id": "1cb6d89b",
   "metadata": {},
   "source": [
    "2. Practice datatypes"
   ]
  },
  {
   "cell_type": "code",
   "execution_count": 2,
   "id": "c8a6bcc5",
   "metadata": {},
   "outputs": [
    {
     "name": "stdout",
     "output_type": "stream",
     "text": [
      "100\n"
     ]
    }
   ],
   "source": [
    "#Code 3 different ways of reaching a result of 100 by adding or subtracting numeric variables.\n",
    "a = 150\n",
    "b = 50\n",
    "print(a-b)"
   ]
  },
  {
   "cell_type": "code",
   "execution_count": 3,
   "id": "2d4d3033",
   "metadata": {},
   "outputs": [
    {
     "name": "stdout",
     "output_type": "stream",
     "text": [
      "100\n"
     ]
    }
   ],
   "source": [
    "print(b + b)"
   ]
  },
  {
   "cell_type": "code",
   "execution_count": 4,
   "id": "fe534cfe",
   "metadata": {},
   "outputs": [
    {
     "name": "stdout",
     "output_type": "stream",
     "text": [
      "100\n"
     ]
    }
   ],
   "source": [
    "c = 25\n",
    "print(b + c +c)"
   ]
  },
  {
   "cell_type": "code",
   "execution_count": 5,
   "id": "49e5fcf8",
   "metadata": {},
   "outputs": [
    {
     "name": "stdout",
     "output_type": "stream",
     "text": [
      "3.1818181818181817\n"
     ]
    }
   ],
   "source": [
    "#Code 2 floating-point variables and divide them by each other.\n",
    "d = 3.5\n",
    "e = 1.1\n",
    "print(d / e)"
   ]
  },
  {
   "cell_type": "code",
   "execution_count": 6,
   "id": "08b16024",
   "metadata": {},
   "outputs": [
    {
     "name": "stdout",
     "output_type": "stream",
     "text": [
      "Instacart\n"
     ]
    }
   ],
   "source": [
    "#Construct a short word made of separate strings \n",
    "f = 'Insta'\n",
    "g = 'cart'\n",
    "print(f + g)"
   ]
  },
  {
   "cell_type": "code",
   "execution_count": 7,
   "id": "452fd2d7",
   "metadata": {},
   "outputs": [
    {
     "name": "stdout",
     "output_type": "stream",
     "text": [
      "My cat is snoring.\n",
      "Other cat is sleeping.\n"
     ]
    }
   ],
   "source": [
    "#Construct 2 short sentences made of separate strings\n",
    "m = 'My '\n",
    "k = 'cat '\n",
    "i = 'is '\n",
    "n = 'snoring'\n",
    "o = 'Other '\n",
    "p = 'sleeping'\n",
    "q = '.'\n",
    "\n",
    "print(m + k + i + n + q)\n",
    "print(o + k + i + p + q)"
   ]
  },
  {
   "cell_type": "code",
   "execution_count": 8,
   "id": "df96a53f",
   "metadata": {},
   "outputs": [
    {
     "name": "stdout",
     "output_type": "stream",
     "text": [
      "cat cat cat cat cat cat cat cat cat cat cat cat cat cat cat cat cat cat cat cat cat cat cat cat cat cat cat cat cat cat cat cat cat cat cat cat cat cat cat cat cat cat cat cat cat cat cat cat cat cat cat cat cat cat cat cat cat cat cat cat cat cat cat cat cat cat cat cat cat cat cat cat cat cat cat cat cat cat cat cat cat cat cat cat cat cat cat cat cat cat cat cat cat cat cat cat cat cat cat cat \n"
     ]
    }
   ],
   "source": [
    "#Bonus task At the bottom of your file, include a command that makes a string appear 100 times.\n",
    "print(k *100)"
   ]
  },
  {
   "cell_type": "code",
   "execution_count": null,
   "id": "5c79dbd8",
   "metadata": {},
   "outputs": [],
   "source": []
  }
 ],
 "metadata": {
  "kernelspec": {
   "display_name": "Python 3 (ipykernel)",
   "language": "python",
   "name": "python3"
  },
  "language_info": {
   "codemirror_mode": {
    "name": "ipython",
    "version": 3
   },
   "file_extension": ".py",
   "mimetype": "text/x-python",
   "name": "python",
   "nbconvert_exporter": "python",
   "pygments_lexer": "ipython3",
   "version": "3.9.13"
  }
 },
 "nbformat": 4,
 "nbformat_minor": 5
}
