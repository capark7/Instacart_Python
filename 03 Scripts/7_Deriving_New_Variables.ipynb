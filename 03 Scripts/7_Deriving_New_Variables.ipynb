{
 "cells": [
  {
   "cell_type": "markdown",
   "id": "e57dc8c9",
   "metadata": {},
   "source": [
    "# 7 Deriving New Variables"
   ]
  },
  {
   "cell_type": "markdown",
   "id": "60a4f0f6",
   "metadata": {},
   "source": [
    "Contents\n",
    "\n",
    "1. Importing Libraries\n",
    "2. Importing Data\n",
    "3. Create 'Price_label' function\n",
    "4. Create 'Busiest Day' function\n",
    "5. Create 'Busiest days' function\n",
    "6. Determine 'Busiest Period of the Day'\n",
    "7. Export Data"
   ]
  },
  {
   "cell_type": "markdown",
   "id": "abc622f7",
   "metadata": {},
   "source": [
    "#01 Importing Libraries"
   ]
  },
  {
   "cell_type": "code",
   "execution_count": 1,
   "id": "3a032fb9",
   "metadata": {},
   "outputs": [],
   "source": [
    "#Import libraries\n",
    "import pandas as pd\n",
    "import numpy as np\n",
    "import os"
   ]
  },
  {
   "cell_type": "markdown",
   "id": "8ad172d7",
   "metadata": {},
   "source": [
    "#02 Importing Data"
   ]
  },
  {
   "cell_type": "code",
   "execution_count": 2,
   "id": "6d43ece1",
   "metadata": {},
   "outputs": [],
   "source": [
    "#Folder Path\n",
    "path = r'C:\\Users\\Caroline\\Documents\\Career Foundry\\03 2023 Instacart Basket Analysis'"
   ]
  },
  {
   "cell_type": "code",
   "execution_count": 36,
   "id": "ef0a1fe4",
   "metadata": {},
   "outputs": [],
   "source": [
    "#import orders_products_merged.pkl as df_orders_products_merged\n",
    "df_ords_prods_merge = pd.read_pickle(os.path.join(path, '02 Data', 'Prepared Data', 'orders_products_merged.pkl'))"
   ]
  },
  {
   "cell_type": "code",
   "execution_count": 37,
   "id": "6bd43395",
   "metadata": {},
   "outputs": [
    {
     "data": {
      "text/plain": [
       "(32404859, 13)"
      ]
     },
     "execution_count": 37,
     "metadata": {},
     "output_type": "execute_result"
    }
   ],
   "source": [
    "#check dataframe after importing\n",
    "df_ords_prods_merge.shape"
   ]
  },
  {
   "cell_type": "markdown",
   "id": "42dac7c5",
   "metadata": {},
   "source": [
    "#03 Create 'Price_label function"
   ]
  },
  {
   "cell_type": "code",
   "execution_count": 39,
   "id": "402e546a",
   "metadata": {},
   "outputs": [],
   "source": [
    "#use loc() function to search the entire data frame\n",
    "df_ords_prods_merge.loc[df_ords_prods_merge['prices'] > 15, 'price_range_loc'] = 'High range product'"
   ]
  },
  {
   "cell_type": "code",
   "execution_count": 40,
   "id": "0141fd70",
   "metadata": {},
   "outputs": [],
   "source": [
    "# Mid range statement\n",
    "df_ords_prods_merge.loc[(df_ords_prods_merge['prices'] <= 15) & (df_ords_prods_merge['prices'] > 5), 'price_range_loc'] = 'Mid range product'"
   ]
  },
  {
   "cell_type": "code",
   "execution_count": 41,
   "id": "c7cd2bb7",
   "metadata": {},
   "outputs": [],
   "source": [
    "# Low range loc() statement\n",
    "df_ords_prods_merge.loc[df_ords_prods_merge['prices'] <= 5, 'price_range_loc'] = 'Low range product'"
   ]
  },
  {
   "cell_type": "code",
   "execution_count": 42,
   "id": "d791c46b",
   "metadata": {},
   "outputs": [
    {
     "data": {
      "text/plain": [
       "Mid range product     21865987\n",
       "Low range product     10126321\n",
       "High range product      412551\n",
       "Name: price_range_loc, dtype: int64"
      ]
     },
     "execution_count": 42,
     "metadata": {},
     "output_type": "execute_result"
    }
   ],
   "source": [
    "# to check the results of price_range function\n",
    "df_ords_prods_merge['price_range_loc'].value_counts(dropna = False)"
   ]
  },
  {
   "cell_type": "markdown",
   "id": "03e90dc4",
   "metadata": {},
   "source": [
    "#04 Create 'Busiest Day' function"
   ]
  },
  {
   "cell_type": "code",
   "execution_count": 43,
   "id": "9d90d024",
   "metadata": {},
   "outputs": [
    {
     "data": {
      "text/plain": [
       "0    6204182\n",
       "1    5660230\n",
       "6    4496490\n",
       "2    4213830\n",
       "5    4205791\n",
       "3    3840534\n",
       "4    3783802\n",
       "Name: orders_day_of_week, dtype: int64"
      ]
     },
     "execution_count": 43,
     "metadata": {},
     "output_type": "execute_result"
    }
   ],
   "source": [
    "# Get a count of the orders placed on each day of the week\n",
    "df_ords_prods_merge['orders_day_of_week'].value_counts(dropna = False)"
   ]
  },
  {
   "cell_type": "code",
   "execution_count": 44,
   "id": "853a3efc",
   "metadata": {},
   "outputs": [],
   "source": [
    "# for loop - value is a place holder\n",
    "result = []\n",
    "\n",
    "for value in df_ords_prods_merge['orders_day_of_week']:\n",
    "    if value == 0:\n",
    "        result.append(\"Busiest day\")\n",
    "    elif value == 4:\n",
    "         result.append(\"Least busy\")\n",
    "    else:\n",
    "        result.append(\"Regularly busy\")"
   ]
  },
  {
   "cell_type": "code",
   "execution_count": 45,
   "id": "bfb4fcf9",
   "metadata": {},
   "outputs": [],
   "source": [
    "#create a column in df_ords_prods_merge to place result\n",
    "df_ords_prods_merge['busiest_day'] = result"
   ]
  },
  {
   "cell_type": "code",
   "execution_count": 46,
   "id": "3a5093d9",
   "metadata": {},
   "outputs": [
    {
     "data": {
      "text/plain": [
       "Regularly busy    22416875\n",
       "Busiest day        6204182\n",
       "Least busy         3783802\n",
       "Name: busiest_day, dtype: int64"
      ]
     },
     "execution_count": 46,
     "metadata": {},
     "output_type": "execute_result"
    }
   ],
   "source": [
    "# Count of busiest day\n",
    "df_ords_prods_merge['busiest_day'].value_counts(dropna = False)"
   ]
  },
  {
   "cell_type": "markdown",
   "id": "a2668be9",
   "metadata": {},
   "source": [
    "#05 Create 'Busiest days' function"
   ]
  },
  {
   "cell_type": "code",
   "execution_count": 47,
   "id": "ebf1f0a8",
   "metadata": {},
   "outputs": [],
   "source": [
    "# for loop to determine the 2 busiest (day 0 and 1) and 2 slowest days (day 4 and 3)\n",
    "result2 = []\n",
    "\n",
    "for value in df_ords_prods_merge['orders_day_of_week']:\n",
    "    if value == 0 :\n",
    "        result2.append(\"Busiest days\")\n",
    "    elif value == 1:\n",
    "        result2.append(\"Busiest days\")\n",
    "    elif value == 4:\n",
    "         result2.append(\"Slowest days\")\n",
    "    elif value == 3:\n",
    "        result2.append(\"Slowest days\")\n",
    "    else:\n",
    "        result2.append(\"Regularly busy\")"
   ]
  },
  {
   "cell_type": "code",
   "execution_count": 48,
   "id": "65b9d34c",
   "metadata": {},
   "outputs": [],
   "source": [
    "#create a column in df_ords_prods_merge to place result\n",
    "df_ords_prods_merge['busiest_period'] = result2"
   ]
  },
  {
   "cell_type": "code",
   "execution_count": 49,
   "id": "ac6be2fa",
   "metadata": {},
   "outputs": [
    {
     "data": {
      "text/plain": [
       "Regularly busy    12916111\n",
       "Busiest days      11864412\n",
       "Slowest days       7624336\n",
       "Name: busiest_period, dtype: int64"
      ]
     },
     "execution_count": 49,
     "metadata": {},
     "output_type": "execute_result"
    }
   ],
   "source": [
    "# Count of orders in the busiest period of the week\n",
    "df_ords_prods_merge['busiest_period'].value_counts(dropna = False)"
   ]
  },
  {
   "cell_type": "markdown",
   "id": "b1e9e545",
   "metadata": {},
   "source": [
    "Observations : the top 2 busiest days are roughly only 1 millon fewer orders then the 3 average days combined.  "
   ]
  },
  {
   "cell_type": "markdown",
   "id": "e87c54cb",
   "metadata": {},
   "source": [
    "#06 Determine Busiest Period of the Day"
   ]
  },
  {
   "cell_type": "code",
   "execution_count": 50,
   "id": "52a68309",
   "metadata": {},
   "outputs": [
    {
     "data": {
      "text/plain": [
       "10    2761760\n",
       "11    2736140\n",
       "14    2689136\n",
       "15    2662144\n",
       "13    2660954\n",
       "12    2618532\n",
       "16    2535202\n",
       "9     2454203\n",
       "17    2087654\n",
       "8     1718118\n",
       "18    1636502\n",
       "19    1258305\n",
       "20     976156\n",
       "7      891054\n",
       "21     795637\n",
       "22     634225\n",
       "23     402316\n",
       "6      290493\n",
       "0      218769\n",
       "1      115700\n",
       "5       87961\n",
       "2       69375\n",
       "4       53242\n",
       "3       51281\n",
       "Name: order_hour_of_day, dtype: int64"
      ]
     },
     "execution_count": 50,
     "metadata": {},
     "output_type": "execute_result"
    }
   ],
   "source": [
    "# Determine the hours of the day with 'Most orders', 'Average orders', 'Fewest orders'\n",
    "# Get a count of the orders placed on each hour of the day\n",
    "df_ords_prods_merge['order_hour_of_day'].value_counts(dropna = False)"
   ]
  },
  {
   "cell_type": "code",
   "execution_count": 51,
   "id": "2ed4f297",
   "metadata": {},
   "outputs": [],
   "source": [
    "# values over 2,500,000 = \"Most orders\" , values less then 250,000  = 'Fewest orders', rest 'Average orders'\n",
    "result3 = []\n",
    "\n",
    "for value in df_ords_prods_merge['order_hour_of_day']:\n",
    "    if (value >= 10) & (value <= 16):\n",
    "        result3.append(\"Most orders\")\n",
    "    elif value < 6:\n",
    "        result3.append(\"Fewest orders\")\n",
    "    else:\n",
    "        result3.append(\"Average orders\")"
   ]
  },
  {
   "cell_type": "code",
   "execution_count": 52,
   "id": "2a5230b5",
   "metadata": {},
   "outputs": [],
   "source": [
    "#create a new column in df_ords_prods_merge containing labels called \"busiest_period_of_the_day\" \n",
    "df_ords_prods_merge['busiest_period_of_the_day'] = result3"
   ]
  },
  {
   "cell_type": "code",
   "execution_count": 53,
   "id": "3bf6b9d2",
   "metadata": {},
   "outputs": [
    {
     "data": {
      "text/plain": [
       "Most orders       18663868\n",
       "Average orders    13144663\n",
       "Fewest orders       596328\n",
       "Name: busiest_period_of_the_day, dtype: int64"
      ]
     },
     "execution_count": 53,
     "metadata": {},
     "output_type": "execute_result"
    }
   ],
   "source": [
    "# Print the frequency for the busiest_period_of_the_day\n",
    "df_ords_prods_merge['busiest_period_of_the_day'].value_counts(dropna = False)"
   ]
  },
  {
   "cell_type": "markdown",
   "id": "1329901f",
   "metadata": {},
   "source": [
    "#07 Export Data"
   ]
  },
  {
   "cell_type": "code",
   "execution_count": 54,
   "id": "b9778294",
   "metadata": {},
   "outputs": [
    {
     "data": {
      "text/plain": [
       "(32404859, 17)"
      ]
     },
     "execution_count": 54,
     "metadata": {},
     "output_type": "execute_result"
    }
   ],
   "source": [
    "df_ords_prods_merge.shape"
   ]
  },
  {
   "cell_type": "code",
   "execution_count": 56,
   "id": "81a3ac6d",
   "metadata": {},
   "outputs": [
    {
     "name": "stdout",
     "output_type": "stream",
     "text": [
      "<class 'pandas.core.frame.DataFrame'>\n",
      "Int64Index: 32404859 entries, 0 to 32404858\n",
      "Data columns (total 17 columns):\n",
      " #   Column                     Dtype  \n",
      "---  ------                     -----  \n",
      " 0   order_id                   int32  \n",
      " 1   user_id                    object \n",
      " 2   order_number               int8   \n",
      " 3   orders_day_of_week         int8   \n",
      " 4   order_hour_of_day          int8   \n",
      " 5   days_since_prior_order     float16\n",
      " 6   product_id                 int32  \n",
      " 7   add_to_cart_order          int16  \n",
      " 8   reordered                  int8   \n",
      " 9   product_name               object \n",
      " 10  department_id              int8   \n",
      " 11  prices                     float32\n",
      " 12  aisle_id                   int16  \n",
      " 13  price_range_loc            object \n",
      " 14  busiest_day                object \n",
      " 15  busiest_period             object \n",
      " 16  busiest_period_of_the_day  object \n",
      "dtypes: float16(1), float32(1), int16(2), int32(2), int8(5), object(6)\n",
      "memory usage: 2.4+ GB\n"
     ]
    }
   ],
   "source": [
    "#check data types of df_ords_prods_merge\n",
    "df_ords_prods_merge.info()"
   ]
  },
  {
   "cell_type": "code",
   "execution_count": 57,
   "id": "d659e20b",
   "metadata": {},
   "outputs": [
    {
     "data": {
      "text/html": [
       "<div>\n",
       "<style scoped>\n",
       "    .dataframe tbody tr th:only-of-type {\n",
       "        vertical-align: middle;\n",
       "    }\n",
       "\n",
       "    .dataframe tbody tr th {\n",
       "        vertical-align: top;\n",
       "    }\n",
       "\n",
       "    .dataframe thead th {\n",
       "        text-align: right;\n",
       "    }\n",
       "</style>\n",
       "<table border=\"1\" class=\"dataframe\">\n",
       "  <thead>\n",
       "    <tr style=\"text-align: right;\">\n",
       "      <th></th>\n",
       "      <th>order_id</th>\n",
       "      <th>order_number</th>\n",
       "      <th>orders_day_of_week</th>\n",
       "      <th>order_hour_of_day</th>\n",
       "      <th>days_since_prior_order</th>\n",
       "      <th>product_id</th>\n",
       "      <th>add_to_cart_order</th>\n",
       "      <th>reordered</th>\n",
       "      <th>department_id</th>\n",
       "      <th>prices</th>\n",
       "      <th>aisle_id</th>\n",
       "    </tr>\n",
       "  </thead>\n",
       "  <tbody>\n",
       "    <tr>\n",
       "      <th>count</th>\n",
       "      <td>3.240486e+07</td>\n",
       "      <td>3.240486e+07</td>\n",
       "      <td>3.240486e+07</td>\n",
       "      <td>3.240486e+07</td>\n",
       "      <td>30328763.0</td>\n",
       "      <td>3.240486e+07</td>\n",
       "      <td>3.240486e+07</td>\n",
       "      <td>3.240486e+07</td>\n",
       "      <td>3.240486e+07</td>\n",
       "      <td>3.240486e+07</td>\n",
       "      <td>3.240486e+07</td>\n",
       "    </tr>\n",
       "    <tr>\n",
       "      <th>mean</th>\n",
       "      <td>1.710745e+06</td>\n",
       "      <td>1.714230e+01</td>\n",
       "      <td>2.738867e+00</td>\n",
       "      <td>1.342515e+01</td>\n",
       "      <td>NaN</td>\n",
       "      <td>2.559866e+04</td>\n",
       "      <td>8.352547e+00</td>\n",
       "      <td>5.895873e-01</td>\n",
       "      <td>9.919792e+00</td>\n",
       "      <td>7.421066e+00</td>\n",
       "      <td>7.119612e+01</td>\n",
       "    </tr>\n",
       "    <tr>\n",
       "      <th>std</th>\n",
       "      <td>9.872988e+05</td>\n",
       "      <td>1.753532e+01</td>\n",
       "      <td>2.090077e+00</td>\n",
       "      <td>4.246380e+00</td>\n",
       "      <td>0.0</td>\n",
       "      <td>1.408400e+04</td>\n",
       "      <td>7.127071e+00</td>\n",
       "      <td>4.919087e-01</td>\n",
       "      <td>6.281485e+00</td>\n",
       "      <td>4.119694e+00</td>\n",
       "      <td>3.821139e+01</td>\n",
       "    </tr>\n",
       "    <tr>\n",
       "      <th>min</th>\n",
       "      <td>2.000000e+00</td>\n",
       "      <td>1.000000e+00</td>\n",
       "      <td>0.000000e+00</td>\n",
       "      <td>0.000000e+00</td>\n",
       "      <td>0.0</td>\n",
       "      <td>1.000000e+00</td>\n",
       "      <td>1.000000e+00</td>\n",
       "      <td>0.000000e+00</td>\n",
       "      <td>1.000000e+00</td>\n",
       "      <td>1.000000e+00</td>\n",
       "      <td>1.000000e+00</td>\n",
       "    </tr>\n",
       "    <tr>\n",
       "      <th>25%</th>\n",
       "      <td>8.559470e+05</td>\n",
       "      <td>5.000000e+00</td>\n",
       "      <td>1.000000e+00</td>\n",
       "      <td>1.000000e+01</td>\n",
       "      <td>5.0</td>\n",
       "      <td>1.354400e+04</td>\n",
       "      <td>3.000000e+00</td>\n",
       "      <td>0.000000e+00</td>\n",
       "      <td>4.000000e+00</td>\n",
       "      <td>4.200000e+00</td>\n",
       "      <td>3.100000e+01</td>\n",
       "    </tr>\n",
       "    <tr>\n",
       "      <th>50%</th>\n",
       "      <td>1.711049e+06</td>\n",
       "      <td>1.100000e+01</td>\n",
       "      <td>3.000000e+00</td>\n",
       "      <td>1.300000e+01</td>\n",
       "      <td>8.0</td>\n",
       "      <td>2.530200e+04</td>\n",
       "      <td>6.000000e+00</td>\n",
       "      <td>1.000000e+00</td>\n",
       "      <td>9.000000e+00</td>\n",
       "      <td>7.400000e+00</td>\n",
       "      <td>8.300000e+01</td>\n",
       "    </tr>\n",
       "    <tr>\n",
       "      <th>75%</th>\n",
       "      <td>2.565499e+06</td>\n",
       "      <td>2.400000e+01</td>\n",
       "      <td>5.000000e+00</td>\n",
       "      <td>1.600000e+01</td>\n",
       "      <td>15.0</td>\n",
       "      <td>3.794700e+04</td>\n",
       "      <td>1.100000e+01</td>\n",
       "      <td>1.000000e+00</td>\n",
       "      <td>1.600000e+01</td>\n",
       "      <td>1.130000e+01</td>\n",
       "      <td>1.070000e+02</td>\n",
       "    </tr>\n",
       "    <tr>\n",
       "      <th>max</th>\n",
       "      <td>3.421083e+06</td>\n",
       "      <td>9.900000e+01</td>\n",
       "      <td>6.000000e+00</td>\n",
       "      <td>2.300000e+01</td>\n",
       "      <td>30.0</td>\n",
       "      <td>4.968800e+04</td>\n",
       "      <td>1.450000e+02</td>\n",
       "      <td>1.000000e+00</td>\n",
       "      <td>2.100000e+01</td>\n",
       "      <td>2.500000e+01</td>\n",
       "      <td>1.340000e+02</td>\n",
       "    </tr>\n",
       "  </tbody>\n",
       "</table>\n",
       "</div>"
      ],
      "text/plain": [
       "           order_id  order_number  orders_day_of_week  order_hour_of_day  \\\n",
       "count  3.240486e+07  3.240486e+07        3.240486e+07       3.240486e+07   \n",
       "mean   1.710745e+06  1.714230e+01        2.738867e+00       1.342515e+01   \n",
       "std    9.872988e+05  1.753532e+01        2.090077e+00       4.246380e+00   \n",
       "min    2.000000e+00  1.000000e+00        0.000000e+00       0.000000e+00   \n",
       "25%    8.559470e+05  5.000000e+00        1.000000e+00       1.000000e+01   \n",
       "50%    1.711049e+06  1.100000e+01        3.000000e+00       1.300000e+01   \n",
       "75%    2.565499e+06  2.400000e+01        5.000000e+00       1.600000e+01   \n",
       "max    3.421083e+06  9.900000e+01        6.000000e+00       2.300000e+01   \n",
       "\n",
       "       days_since_prior_order    product_id  add_to_cart_order     reordered  \\\n",
       "count              30328763.0  3.240486e+07       3.240486e+07  3.240486e+07   \n",
       "mean                      NaN  2.559866e+04       8.352547e+00  5.895873e-01   \n",
       "std                       0.0  1.408400e+04       7.127071e+00  4.919087e-01   \n",
       "min                       0.0  1.000000e+00       1.000000e+00  0.000000e+00   \n",
       "25%                       5.0  1.354400e+04       3.000000e+00  0.000000e+00   \n",
       "50%                       8.0  2.530200e+04       6.000000e+00  1.000000e+00   \n",
       "75%                      15.0  3.794700e+04       1.100000e+01  1.000000e+00   \n",
       "max                      30.0  4.968800e+04       1.450000e+02  1.000000e+00   \n",
       "\n",
       "       department_id        prices      aisle_id  \n",
       "count   3.240486e+07  3.240486e+07  3.240486e+07  \n",
       "mean    9.919792e+00  7.421066e+00  7.119612e+01  \n",
       "std     6.281485e+00  4.119694e+00  3.821139e+01  \n",
       "min     1.000000e+00  1.000000e+00  1.000000e+00  \n",
       "25%     4.000000e+00  4.200000e+00  3.100000e+01  \n",
       "50%     9.000000e+00  7.400000e+00  8.300000e+01  \n",
       "75%     1.600000e+01  1.130000e+01  1.070000e+02  \n",
       "max     2.100000e+01  2.500000e+01  1.340000e+02  "
      ]
     },
     "execution_count": 57,
     "metadata": {},
     "output_type": "execute_result"
    }
   ],
   "source": [
    "df_ords_prods_merge.describe()"
   ]
  },
  {
   "cell_type": "code",
   "execution_count": 58,
   "id": "471e3eb6",
   "metadata": {},
   "outputs": [],
   "source": [
    "#Export df_orders_products_merged in .pkl format\n",
    "df_ords_prods_merge.to_pickle(os.path.join(path, '02 Data', 'Prepared Data', 'orders_products_PR_busy.pkl'))"
   ]
  },
  {
   "cell_type": "code",
   "execution_count": null,
   "id": "dc49ecf9",
   "metadata": {},
   "outputs": [],
   "source": []
  }
 ],
 "metadata": {
  "kernelspec": {
   "display_name": "Python 3 (ipykernel)",
   "language": "python",
   "name": "python3"
  },
  "language_info": {
   "codemirror_mode": {
    "name": "ipython",
    "version": 3
   },
   "file_extension": ".py",
   "mimetype": "text/x-python",
   "name": "python",
   "nbconvert_exporter": "python",
   "pygments_lexer": "ipython3",
   "version": "3.9.13"
  }
 },
 "nbformat": 4,
 "nbformat_minor": 5
}
